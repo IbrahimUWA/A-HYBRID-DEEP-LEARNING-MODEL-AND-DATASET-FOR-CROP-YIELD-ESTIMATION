{
 "cells": [
  {
   "cell_type": "markdown",
   "metadata": {},
   "source": [
    "SENTINEL-2 BANDS DOWNLOADING USING GOOGLE EARTH ENGINE"
   ]
  },
  {
   "cell_type": "code",
   "execution_count": null,
   "metadata": {},
   "outputs": [],
   "source": [
    "# Extracting Sentinel-2 NIR (Band 8) and Red (Band 4) bands for Southwestern Western Australia\n",
    "# This script targets the entire region encompassing all defined rainfall zones. It requires the following input parameters:\n",
    "\n",
    "# Bounding box specifying the area of interest\n",
    "\n",
    "# Start and end dates for temporal filtering\n",
    "\n",
    "# Pixel resolution set to 10 meters\n",
    "\n",
    "# Maximum cloud cover threshold, set to 10% in this example\n",
    "\n",
    "# Also you should have a valid Google Earth Engine user name to access the data\n",
    "\n",
    "# The output includes clipped and filtered imagery focused on Band 8 (NIR) and Band 4 (Red), suitable for vegetation analysis such as NDVI computation.\n",
    "\n",
    "import ee\n",
    "import geemap\n",
    "import os\n",
    "\n",
    "# Initialize the Earth Engine module\n",
    "ee.Initialize()\n",
    "\n",
    "# Create an interactive map\n",
    "Map = geemap.Map()\n",
    "\n",
    "# Define the region of interest using the given bounding box\n",
    "region = ee.Geometry.BBox(114.20339371, -35.07600513, 123.246781, -27.65451515)\n",
    "Map.centerObject(region)\n",
    "\n",
    "# Convert the region to a FeatureCollection\n",
    "region_feature = ee.FeatureCollection([ee.Feature(region)])\n",
    "\n",
    "# Define the directory to save the downloaded data\n",
    "out_dir = \"H:/Sentinel-2 data\" # Replace with your output directory path\n",
    "os.makedirs(out_dir, exist_ok=True)  # Create the directory if it doesn't exist\n",
    "\n",
    "# Use a coarser scale (100 meters) to reduce data size\n",
    "scale = 10\n",
    "\n",
    "# Loop through each quarter in 2020\n",
    "for quarter, (start_month, end_month) in enumerate([(1, 3), (4, 6), (7, 9), (10, 12)], start=1):\n",
    "    # Define the start and end date for the current quarter\n",
    "    start_date = f'2021-{start_month:02d}-01'\n",
    "    end_date = f'2021-{end_month:02d}-30'\n",
    "    \n",
    "    # Load the Sentinel-2 image collection and filter by date, region, and cloud cover\n",
    "    collection = ee.ImageCollection('COPERNICUS/S2') \\\n",
    "        .filterDate(start_date, end_date) \\\n",
    "        .filterBounds(region) \\\n",
    "        .filter(ee.Filter.lt('CLOUDY_PIXEL_PERCENTAGE', 10))  # Filter by cloud coverage\n",
    "    \n",
    "    # Create a median composite of the NIR and Red bands and clip to the region\n",
    "    image = collection.median().select(['B8', 'B4']).clip(region)\n",
    "    \n",
    "    # Add time information to the composite image\n",
    "    time_band = ee.Image.constant(quarter).rename('Time')\n",
    "    combined_image = image.addBands(time_band)\n",
    "    \n",
    "    # Set visualization parameters for the NIR and Red bands\n",
    "    rgb_vis = {\"bands\": [\"B4\", \"B8\"], \"min\": 0, \"max\": 3000, \"gamma\": 1.4}\n",
    "    Map.addLayer(combined_image, rgb_vis, f'NIR and Red Composite Q{quarter}-2020')\n",
    "    \n",
    "    # Download the combined image (NIR, Red, and time band) for the specified region\n",
    "    prefix = f'sentinel_2021_Q{quarter}_'\n",
    "    geemap.download_ee_image_tiles(\n",
    "        combined_image,\n",
    "        region_feature,  # Pass the FeatureCollection here\n",
    "        out_dir=out_dir,\n",
    "        prefix=prefix,\n",
    "        crs=\"EPSG:3857\",\n",
    "        scale=scale,\n",
    "        dtype='uint16'  # Use 16-bit unsigned integer to store higher bit depth values\n",
    "    )\n",
    "    \n",
    "    print(f\"Downloaded NIR and Red data for Q{quarter} of 2020 with time series information.\")\n",
    "\n",
    "# Display the map\n",
    "Map"
   ]
  },
  {
   "cell_type": "code",
   "execution_count": null,
   "metadata": {},
   "outputs": [],
   "source": [
    "# Extracting Sentinel-2 median composite of the Blue (B2) and Green (B3) bands for Southwestern Western Australia\n",
    "# This script targets the entire region encompassing all defined rainfall zones. It requires the following input parameters:\n",
    "\n",
    "# Bounding box specifying the area of interest\n",
    "\n",
    "# Start and end dates for temporal filtering\n",
    "\n",
    "# Pixel resolution set to 10 meters\n",
    "\n",
    "# Maximum cloud cover threshold, set to 10% in this example\n",
    "\n",
    "# Also you should have a valid Google Earth Engine user name to access the data\n",
    "\n",
    "# The output includes clipped and filtered imagery focused on  Blue (B2) and Green (B3).\n",
    "\n",
    "\n",
    "\n",
    "import ee\n",
    "import geemap\n",
    "import os\n",
    "ee.Authenticate()\n",
    "# Initialize the Earth Engine module\n",
    "ee.Initialize()\n",
    "\n",
    "# Create an interactive map\n",
    "Map = geemap.Map()\n",
    "\n",
    "# Define the region of interest using the given bounding box\n",
    "region = ee.Geometry.BBox(114.20339371, -35.07600513, 123.246781, -27.65451515)\n",
    "Map.centerObject(region)\n",
    "\n",
    "# Convert the region to a FeatureCollection\n",
    "region_feature = ee.FeatureCollection([ee.Feature(region)])\n",
    "\n",
    "# Define the directory to save the downloaded data\n",
    "out_dir = \"H:/Sentinel-2 data\" # Replace with your output directory path\n",
    "os.makedirs(out_dir, exist_ok=True)  # Create the directory if it doesn't exist\n",
    "\n",
    "# Use a coarser scale (100 meters) to reduce data size\n",
    "scale = 10\n",
    "\n",
    "# Loop through each quarter in 2022\n",
    "for quarter, (start_month, end_month) in enumerate([(7, 9), (10, 12)], start=3):\n",
    "    # Define the start and end date for the current quarter\n",
    "    start_date = f'2022-{start_month:02d}-01'\n",
    "    end_date = f'2022-{end_month:02d}-30'\n",
    "    \n",
    "    # Load the Sentinel-2 image collection and filter by date, region, and cloud cover\n",
    "    collection = ee.ImageCollection('COPERNICUS/S2') \\\n",
    "        .filterDate(start_date, end_date) \\\n",
    "        .filterBounds(region) \\\n",
    "        .filter(ee.Filter.lt('CLOUDY_PIXEL_PERCENTAGE', 10))  # Filter by cloud coverage\n",
    "    \n",
    "    \n",
    "     # Create a median composite of the Blue (B2) and Green (B3) bands and clip to the region\n",
    "    image = collection.median().select(['B2', 'B3']).clip(region)\n",
    "    \n",
    "    # Add time information to the composite image\n",
    "    time_band = ee.Image.constant(quarter).rename('Time')\n",
    "    combined_image = image.addBands(time_band)\n",
    "    \n",
    "    # Set visualization parameters for the Blue and Red bands\n",
    "    rgb_vis = {\"bands\": [\"B2\", \"B3\"], \"min\": 0, \"max\": 3000, \"gamma\": 1.4}\n",
    "    Map.addLayer(combined_image, rgb_vis, f'Blue and Green Composite Q{quarter}-2022')\n",
    "    \n",
    "    # Download the combined image (Blue, Green, and time band) for the specified region\n",
    "    prefix = f'sentinel_20222_Q{quarter}_'\n",
    "    geemap.download_ee_image_tiles(\n",
    "        combined_image,\n",
    "        region_feature,  # Pass the FeatureCollection here\n",
    "        out_dir=out_dir,\n",
    "        prefix=prefix,\n",
    "        crs=\"EPSG:3857\",\n",
    "        scale=scale,\n",
    "        dtype='uint16'  # Use 16-bit unsigned integer to store higher bit depth values\n",
    "    )\n",
    "    \n",
    "    print(f\"Downloaded Blue and Green data for Q{quarter} of 2022 with time series information.\")\n",
    "\n",
    "# Display the map\n",
    "Map"
   ]
  },
  {
   "cell_type": "code",
   "execution_count": null,
   "metadata": {},
   "outputs": [
    {
     "data": {
      "text/html": [
       "\n",
       "            <style>\n",
       "                .geemap-dark {\n",
       "                    --jp-widgets-color: white;\n",
       "                    --jp-widgets-label-color: white;\n",
       "                    --jp-ui-font-color1: white;\n",
       "                    --jp-layout-color2: #454545;\n",
       "                    background-color: #383838;\n",
       "                }\n",
       "\n",
       "                .geemap-dark .jupyter-button {\n",
       "                    --jp-layout-color3: #383838;\n",
       "                }\n",
       "\n",
       "                .geemap-colab {\n",
       "                    background-color: var(--colab-primary-surface-color, white);\n",
       "                }\n",
       "\n",
       "                .geemap-colab .jupyter-button {\n",
       "                    --jp-layout-color3: var(--colab-primary-surface-color, white);\n",
       "                }\n",
       "            </style>\n",
       "            "
      ],
      "text/plain": [
       "<IPython.core.display.HTML object>"
      ]
     },
     "metadata": {},
     "output_type": "display_data"
    },
    {
     "name": "stdout",
     "output_type": "stream",
     "text": [
      "Downloading 1/1: G:/New-Sentinel-2 Data\\sentinel_2022_NR_Q3_1.tif\n"
     ]
    },
    {
     "name": "stderr",
     "output_type": "stream",
     "text": [
      "Consider adjusting `region`, `scale` and/or `dtype` to reduce the sentinel_2022_NR_Q3_1.tif download size (raw: 1.35 GB).\n"
     ]
    },
    {
     "data": {
      "application/vnd.jupyter.widget-view+json": {
       "model_id": "83f5c52e3d794adbb1a9820543899fde",
       "version_major": 2,
       "version_minor": 0
      },
      "text/plain": [
       "sentinel_2022_NR_Q3_1.tif: |          | 0.00/1.35G (raw) [  0.0%] in 00:00 (eta:     ?)"
      ]
     },
     "metadata": {},
     "output_type": "display_data"
    },
    {
     "name": "stdout",
     "output_type": "stream",
     "text": [
      "Downloaded 1 tiles in 113.03729224205017 seconds.\n",
      "Downloaded NIR and Red data for Q3 of 2022 with time series information.\n",
      "Downloading 1/1: G:/New-Sentinel-2 Data\\sentinel_2022_NR_Q4_1.tif\n"
     ]
    },
    {
     "name": "stderr",
     "output_type": "stream",
     "text": [
      "Consider adjusting `region`, `scale` and/or `dtype` to reduce the sentinel_2022_NR_Q4_1.tif download size (raw: 1.35 GB).\n"
     ]
    },
    {
     "data": {
      "application/vnd.jupyter.widget-view+json": {
       "model_id": "ba4806703a474dc694952cfa6c92304a",
       "version_major": 2,
       "version_minor": 0
      },
      "text/plain": [
       "sentinel_2022_NR_Q4_1.tif: |          | 0.00/1.35G (raw) [  0.0%] in 00:00 (eta:     ?)"
      ]
     },
     "metadata": {},
     "output_type": "display_data"
    },
    {
     "name": "stdout",
     "output_type": "stream",
     "text": [
      "Downloaded 1 tiles in 123.76372790336609 seconds.\n",
      "Downloaded NIR and Red data for Q4 of 2022 with time series information.\n"
     ]
    },
    {
     "data": {
      "application/vnd.jupyter.widget-view+json": {
       "model_id": "895dea499149414c8c7d8f72dc5e1ddd",
       "version_major": 2,
       "version_minor": 0
      },
      "text/plain": [
       "Map(center=[0, 0], controls=(WidgetControl(options=['position', 'transparent_bg'], widget=SearchDataGUI(childr…"
      ]
     },
     "execution_count": 20,
     "metadata": {},
     "output_type": "execute_result"
    }
   ],
   "source": [
    "# Farmanco Subpaddocks Sentinel-2 data downloading (NIR and Red bands). \n",
    "\n",
    "# Geographic Coverage Summary\n",
    "# This bounding box defines a narrow east-west strip in southwestern Western Australia, approximately:\n",
    "\n",
    "# West to East: From just inland of Busselton and Bunbury (116.5°E) to around Albany Highway near Katanning (118.0°E).\n",
    "\n",
    "# South to North: From approximately Cape Leeuwin–Cape Naturaliste coast in the south to inland towns like Williams or Kojonup in the north.\n",
    "\n",
    "import ee\n",
    "import geemap\n",
    "import os\n",
    "ee.Authenticate()\n",
    "# Initialize the Earth Engine module\n",
    "ee.Initialize()\n",
    "\n",
    "# Create an interactive map\n",
    "Map = geemap.Map()\n",
    "\n",
    "# Define the region of interest using the given bounding box\n",
    "region = ee.Geometry.BBox(116.5, -34.5, 118.0, -33.5)\n",
    "Map.centerObject(region)\n",
    "\n",
    "# Convert the region to a FeatureCollection\n",
    "region_feature = ee.FeatureCollection([ee.Feature(region)])\n",
    "\n",
    "# Define the directory to save the downloaded data\n",
    "out_dir = \"G:/New-Sentinel-2 Data\" # Replace with your output directory path\n",
    "os.makedirs(out_dir, exist_ok=True)  # Create the directory if it doesn't exist\n",
    "\n",
    "# Use a coarser scale (100 meters) to reduce data size\n",
    "scale = 10\n",
    "\n",
    "# Loop through each quarter in 2022\n",
    "for quarter, (start_month, end_month) in enumerate([(7, 9), (10, 12)], start=3):\n",
    "    # Define the start and end date for the current quarter\n",
    "    start_date = f'2022-{start_month:02d}-01'\n",
    "    end_date = f'2022-{end_month:02d}-30'\n",
    "    \n",
    "    # Load the Sentinel-2 image collection and filter by date, region, and cloud cover\n",
    "    collection = ee.ImageCollection('COPERNICUS/S2') \\\n",
    "        .filterDate(start_date, end_date) \\\n",
    "        .filterBounds(region) \\\n",
    "        .filter(ee.Filter.lt('CLOUDY_PIXEL_PERCENTAGE', 10))  # Filter by cloud coverage\n",
    "    \n",
    "    # Create a median composite of the NIR and Red bands and clip to the region\n",
    "    image = collection.median().select(['B8', 'B4']).clip(region)\n",
    "    \n",
    "    # Add time information to the composite image\n",
    "    time_band = ee.Image.constant(quarter).rename('Time')\n",
    "    combined_image = image.addBands(time_band)\n",
    "    \n",
    "    # Set visualization parameters for the NIR and Red bands\n",
    "    rgb_vis = {\"bands\": [\"B4\", \"B8\"], \"min\": 0, \"max\": 3000, \"gamma\": 1.4}\n",
    "    Map.addLayer(combined_image, rgb_vis, f'NIR and Red Composite Q{quarter}-2022')\n",
    "    \n",
    "    # Download the combined image (NIR, Red, and time band) for the specified region\n",
    "    prefix = f'sentinel_2022_NR_Q{quarter}_'\n",
    "    geemap.download_ee_image_tiles(\n",
    "        combined_image,\n",
    "        region_feature,  # Pass the FeatureCollection here\n",
    "        out_dir=out_dir,\n",
    "        prefix=prefix,\n",
    "        crs=\"EPSG:3857\",\n",
    "        scale=scale,\n",
    "        dtype='uint16'  # Use 16-bit unsigned integer to store higher bit depth values\n",
    "    )\n",
    "    \n",
    "    print(f\"Downloaded NIR and Red data for Q{quarter} of 2022 with time series information.\")\n",
    "\n",
    "# Display the map\n",
    "Map"
   ]
  },
  {
   "cell_type": "code",
   "execution_count": null,
   "metadata": {},
   "outputs": [
    {
     "data": {
      "text/html": [
       "\n",
       "            <style>\n",
       "                .geemap-dark {\n",
       "                    --jp-widgets-color: white;\n",
       "                    --jp-widgets-label-color: white;\n",
       "                    --jp-ui-font-color1: white;\n",
       "                    --jp-layout-color2: #454545;\n",
       "                    background-color: #383838;\n",
       "                }\n",
       "\n",
       "                .geemap-dark .jupyter-button {\n",
       "                    --jp-layout-color3: #383838;\n",
       "                }\n",
       "\n",
       "                .geemap-colab {\n",
       "                    background-color: var(--colab-primary-surface-color, white);\n",
       "                }\n",
       "\n",
       "                .geemap-colab .jupyter-button {\n",
       "                    --jp-layout-color3: var(--colab-primary-surface-color, white);\n",
       "                }\n",
       "            </style>\n",
       "            "
      ],
      "text/plain": [
       "<IPython.core.display.HTML object>"
      ]
     },
     "metadata": {},
     "output_type": "display_data"
    },
    {
     "name": "stdout",
     "output_type": "stream",
     "text": [
      "Downloading 1/1: G:/New-Sentinel-2 Data\\sentinel_2022_BG_Q31.tif\n"
     ]
    },
    {
     "name": "stderr",
     "output_type": "stream",
     "text": [
      "Consider adjusting `region`, `scale` and/or `dtype` to reduce the sentinel_2022_BG_Q31.tif download size (raw: 1.35 GB).\n"
     ]
    },
    {
     "data": {
      "application/vnd.jupyter.widget-view+json": {
       "model_id": "373a7237faac4000b76aff3b36ad8128",
       "version_major": 2,
       "version_minor": 0
      },
      "text/plain": [
       "sentinel_2022_BG_Q31.tif: |          | 0.00/1.35G (raw) [  0.0%] in 00:00 (eta:     ?)"
      ]
     },
     "metadata": {},
     "output_type": "display_data"
    },
    {
     "name": "stdout",
     "output_type": "stream",
     "text": [
      "Downloaded 1 tiles in 139.07064986228943 seconds.\n",
      "Downloaded Blue and Green data for Q3 of 2022 with time series information.\n",
      "Downloading 1/1: G:/New-Sentinel-2 Data\\sentinel_2022_BG_Q41.tif\n"
     ]
    },
    {
     "name": "stderr",
     "output_type": "stream",
     "text": [
      "Consider adjusting `region`, `scale` and/or `dtype` to reduce the sentinel_2022_BG_Q41.tif download size (raw: 1.35 GB).\n"
     ]
    },
    {
     "data": {
      "application/vnd.jupyter.widget-view+json": {
       "model_id": "ec7d8ed47f6743cf800279f805b37e7c",
       "version_major": 2,
       "version_minor": 0
      },
      "text/plain": [
       "sentinel_2022_BG_Q41.tif: |          | 0.00/1.35G (raw) [  0.0%] in 00:00 (eta:     ?)"
      ]
     },
     "metadata": {},
     "output_type": "display_data"
    },
    {
     "name": "stdout",
     "output_type": "stream",
     "text": [
      "Downloaded 1 tiles in 140.38846278190613 seconds.\n",
      "Downloaded Blue and Green data for Q4 of 2022 with time series information.\n"
     ]
    },
    {
     "data": {
      "application/vnd.jupyter.widget-view+json": {
       "model_id": "403ad563ab6f4a28a0d63e1c4e94d40b",
       "version_major": 2,
       "version_minor": 0
      },
      "text/plain": [
       "Map(center=[0, 0], controls=(WidgetControl(options=['position', 'transparent_bg'], widget=SearchDataGUI(childr…"
      ]
     },
     "execution_count": 21,
     "metadata": {},
     "output_type": "execute_result"
    }
   ],
   "source": [
    "# Farmanco Subpaddocks Sentinel-2 data downloading (Blue and Green bands). \n",
    "\n",
    "# Geographic Coverage Summary\n",
    "# This bounding box defines a narrow east-west strip in southwestern Western Australia, approximately:\n",
    "\n",
    "# West to East: From just inland of Busselton and Bunbury (116.5°E) to around Albany Highway near Katanning (118.0°E).\n",
    "\n",
    "# South to North: From approximately Cape Leeuwin–Cape Naturaliste coast in the south to inland towns like Williams or Kojonup in the north.\n",
    "\n",
    "\n",
    "import ee\n",
    "import geemap\n",
    "import os\n",
    "\n",
    "# Authenticate and initialize Google Earth Engine\n",
    "ee.Authenticate()\n",
    "ee.Initialize()\n",
    "\n",
    "# Create an interactive map\n",
    "Map = geemap.Map()\n",
    "\n",
    "# Define the region of interest using the given bounding box\n",
    "region = ee.Geometry.BBox(116.5, -34.5, 118.0, -33.5)\n",
    "Map.centerObject(region)\n",
    "\n",
    "# Convert the region to a FeatureCollection\n",
    "region_feature = ee.FeatureCollection([ee.Feature(region)])\n",
    "\n",
    "# Define the directory to save the downloaded data\n",
    "out_dir = \"G:/New-Sentinel-2 Data\"  # Replace with your output directory path\n",
    "os.makedirs(out_dir, exist_ok=True)  # Create the directory if it doesn't exist\n",
    "\n",
    "# Use a fine resolution scale (10 meters)\n",
    "scale = 10\n",
    "\n",
    "# Loop through each quarter in 2022\n",
    "for quarter, (start_month, end_month) in enumerate([(7, 9), (10, 12)], start=3):\n",
    "    # Define the start and end date for the current quarter\n",
    "    start_date = f'2022-{start_month:02d}-01'\n",
    "    end_date = f'2022-{end_month:02d}-30'\n",
    "    \n",
    "    # Load the Sentinel-2 image collection and filter by date, region, and cloud cover\n",
    "    collection = ee.ImageCollection('COPERNICUS/S2') \\\n",
    "        .filterDate(start_date, end_date) \\\n",
    "        .filterBounds(region) \\\n",
    "        .filter(ee.Filter.lt('CLOUDY_PIXEL_PERCENTAGE', 10))  # Filter by cloud coverage\n",
    "    \n",
    "    # Create a median composite of the Blue (B2) and Green (B3) bands and clip to the region\n",
    "    image = collection.median().select(['B2', 'B3']).clip(region)\n",
    "    \n",
    "    # Add time information to the composite image\n",
    "    time_band = ee.Image.constant(quarter).rename('Time')\n",
    "    combined_image = image.addBands(time_band)\n",
    "    \n",
    "    # Set visualization parameters for the Blue and Green bands\n",
    "    rgb_vis = {\"bands\": [\"B2\", \"B3\"], \"min\": 0, \"max\": 3000, \"gamma\": 1.4}\n",
    "    Map.addLayer(combined_image, rgb_vis, f'Blue and Green Composite Q{quarter}-2022')\n",
    "    \n",
    "    # Download the combined image (Blue, Green, and time band) for the specified region\n",
    "    prefix = f'sentinel_2022_BG_Q{quarter}'\n",
    "    geemap.download_ee_image_tiles(\n",
    "        combined_image,\n",
    "        region_feature,  # Pass the FeatureCollection here\n",
    "        out_dir=out_dir,\n",
    "        prefix=prefix,\n",
    "        crs=\"EPSG:3857\",\n",
    "        scale=scale,\n",
    "        dtype='uint16'  # Use 16-bit unsigned integer to store higher bit depth values\n",
    "    )\n",
    "    \n",
    "    print(f\"Downloaded Blue and Green data for Q{quarter} of 2022 with time series information.\")\n",
    "\n",
    "# Display the map\n",
    "Map\n"
   ]
  },
  {
   "cell_type": "code",
   "execution_count": null,
   "metadata": {},
   "outputs": [
    {
     "data": {
      "text/html": [
       "\n",
       "            <style>\n",
       "                .geemap-dark {\n",
       "                    --jp-widgets-color: white;\n",
       "                    --jp-widgets-label-color: white;\n",
       "                    --jp-ui-font-color1: white;\n",
       "                    --jp-layout-color2: #454545;\n",
       "                    background-color: #383838;\n",
       "                }\n",
       "\n",
       "                .geemap-dark .jupyter-button {\n",
       "                    --jp-layout-color3: #383838;\n",
       "                }\n",
       "\n",
       "                .geemap-colab {\n",
       "                    background-color: var(--colab-primary-surface-color, white);\n",
       "                }\n",
       "\n",
       "                .geemap-colab .jupyter-button {\n",
       "                    --jp-layout-color3: var(--colab-primary-surface-color, white);\n",
       "                }\n",
       "            </style>\n",
       "            "
      ],
      "text/plain": [
       "<IPython.core.display.HTML object>"
      ]
     },
     "metadata": {},
     "output_type": "display_data"
    },
    {
     "name": "stdout",
     "output_type": "stream",
     "text": [
      "Downloading 1/1: F:/Food Agility Data\\sentinel_2022_Q3_1.tif\n"
     ]
    },
    {
     "name": "stderr",
     "output_type": "stream",
     "text": [
      "Consider adjusting `region`, `scale` and/or `dtype` to reduce the sentinel_2022_Q3_1.tif download size (raw: 49.90 GB).\n"
     ]
    },
    {
     "data": {
      "application/vnd.jupyter.widget-view+json": {
       "model_id": "f2a0f55517bb4ddfa833d5371ab0786f",
       "version_major": 2,
       "version_minor": 0
      },
      "text/plain": [
       "sentinel_2022_Q3_1.tif: |          | 0.00/49.9G (raw) [  0.0%] in 00:00 (eta:     ?)"
      ]
     },
     "metadata": {},
     "output_type": "display_data"
    },
    {
     "name": "stderr",
     "output_type": "stream",
     "text": [
      "There is no STAC entry for: None\n"
     ]
    }
   ],
   "source": [
    "# Extracting Sentinel-2 NIR (Band 8) and Red (Band 4) bands for Southwestern Western Australia\n",
    "# This script targets the entire region encompassing all defined rainfall zones. It requires the following input parameters:\n",
    "\n",
    "# Bounding box specifying the area of interest\n",
    "\n",
    "# Start and end dates for temporal filtering\n",
    "\n",
    "# Pixel resolution set to 10 meters\n",
    "\n",
    "# Maximum cloud cover threshold, set to 10% in this example\n",
    "\n",
    "# Also you should have a valid Google Earth Engine user name to access the data\n",
    "\n",
    "# The output includes clipped and filtered imagery focused on Band 8 (NIR) and Band 4 (Red), suitable for vegetation analysis such as NDVI computation.\n",
    "\n",
    "\n",
    "import ee\n",
    "import geemap\n",
    "import os\n",
    "\n",
    "# Initialize the Earth Engine module\n",
    "ee.Authenticate()\n",
    "# Initialize the Earth Engine module\n",
    "ee.Initialize()\n",
    "\n",
    "# Create an interactive map\n",
    "Map = geemap.Map()\n",
    "\n",
    "# Define the region of interest using the given bounding box\n",
    "region = ee.Geometry.BBox(114.20339371, -35.07600513, 123.246781, -27.65451515)\n",
    "Map.centerObject(region)\n",
    "\n",
    "# Convert the region to a FeatureCollection\n",
    "region_feature = ee.FeatureCollection([ee.Feature(region)])\n",
    "\n",
    "# Define the directory to save the downloaded data\n",
    "out_dir = \"F:/Food Agility Data\" # Replace with your output directory path\n",
    "os.makedirs(out_dir, exist_ok=True)  # Create the directory if it doesn't exist\n",
    "\n",
    "# Use a coarser scale (100 meters) to reduce data size\n",
    "scale = 10\n",
    "\n",
    "# Loop through each quarter in 2022\n",
    "for quarter, (start_month, end_month) in enumerate([(7, 9)], start=3):\n",
    "    # Define the start and end date for the current quarter\n",
    "    start_date = f'2022-{start_month:02d}-01'\n",
    "    end_date = f'2022-{end_month:02d}-30'\n",
    "    \n",
    "    # Load the Sentinel-2 image collection and filter by date, region, and cloud cover\n",
    "    collection = ee.ImageCollection('COPERNICUS/S2') \\\n",
    "        .filterDate(start_date, end_date) \\\n",
    "        .filterBounds(region) \\\n",
    "        .filter(ee.Filter.lt('CLOUDY_PIXEL_PERCENTAGE', 10))  # Filter by cloud coverage\n",
    "    \n",
    "    # Create a median composite of the NIR and Red bands and clip to the region\n",
    "    image = collection.median().select(['B8', 'B4']).clip(region)\n",
    "    \n",
    "    # Add time information to the composite image\n",
    "    time_band = ee.Image.constant(quarter).rename('Time')\n",
    "    combined_image = image.addBands(time_band)\n",
    "    \n",
    "    # Set visualization parameters for the NIR and Red bands\n",
    "    rgb_vis = {\"bands\": [\"B4\", \"B8\"], \"min\": 0, \"max\": 3000, \"gamma\": 1.4}\n",
    "    Map.addLayer(combined_image, rgb_vis, f'NIR and Red Composite Q{quarter}-2022')\n",
    "    \n",
    "    # Download the combined image (NIR, Red, and time band) for the specified region\n",
    "    prefix = f'sentinel_2022_Q{quarter}_'\n",
    "    geemap.download_ee_image_tiles(\n",
    "        combined_image,\n",
    "        region_feature,  # Pass the FeatureCollection here\n",
    "        out_dir=out_dir,\n",
    "        prefix=prefix,\n",
    "        crs=\"EPSG:4326\",\n",
    "        scale=scale,\n",
    "        dtype='uint16'  # Use 16-bit unsigned integer to store higher bit depth values\n",
    "    )\n",
    "    \n",
    "    print(f\"Downloaded NIR and Red data for Q{quarter} of 2022 with time series information.\")\n",
    "\n",
    "# Display the map\n",
    "Map"
   ]
  },
  {
   "cell_type": "code",
   "execution_count": null,
   "metadata": {},
   "outputs": [
    {
     "name": "stdout",
     "output_type": "stream",
     "text": [
      "Metadata: {'driver': 'GTiff', 'dtype': 'uint16', 'nodata': 0.0, 'width': 100671, 'height': 82617, 'count': 3, 'crs': CRS.from_epsg(4326), 'transform': Affine(8.983152841195215e-05, 0.0, 114.20336105928524,\n",
      "       0.0, -8.983152841195215e-05, -27.654456358562644), 'blockxsize': 256, 'blockysize': 256, 'tiled': True, 'compress': 'deflate', 'interleave': 'band'}\n"
     ]
    }
   ],
   "source": [
    "import rasterio\n",
    "\n",
    "raster_path = \"F:/Food Agility Data/sentinel_2022_Q3_11.tif\"\n",
    "with rasterio.open(raster_path) as src:\n",
    "    print(\"Metadata:\", src.profile)\n",
    "    band1 = src.read(1)  # Read the first band\n",
    "    print(\"Min:\", band1.min(), \"Max:\", band1.max(), \"Mean:\", band1.mean())\n"
   ]
  },
  {
   "cell_type": "code",
   "execution_count": null,
   "metadata": {},
   "outputs": [
    {
     "data": {
      "text/html": [
       "\n",
       "            <style>\n",
       "                .geemap-dark {\n",
       "                    --jp-widgets-color: white;\n",
       "                    --jp-widgets-label-color: white;\n",
       "                    --jp-ui-font-color1: white;\n",
       "                    --jp-layout-color2: #454545;\n",
       "                    background-color: #383838;\n",
       "                }\n",
       "\n",
       "                .geemap-dark .jupyter-button {\n",
       "                    --jp-layout-color3: #383838;\n",
       "                }\n",
       "\n",
       "                .geemap-colab {\n",
       "                    background-color: var(--colab-primary-surface-color, white);\n",
       "                }\n",
       "\n",
       "                .geemap-colab .jupyter-button {\n",
       "                    --jp-layout-color3: var(--colab-primary-surface-color, white);\n",
       "                }\n",
       "            </style>\n",
       "            "
      ],
      "text/plain": [
       "<IPython.core.display.HTML object>"
      ]
     },
     "metadata": {},
     "output_type": "display_data"
    },
    {
     "name": "stdout",
     "output_type": "stream",
     "text": [
      "📦 Processing 2020 Q3\n",
      "Downloading 1/1: H:/Food Agility Data/Farmanco Dataset Processing/Smith_Sentinel2_data\\sentinel_2020_BG_Q31.tif\n"
     ]
    },
    {
     "data": {
      "application/vnd.jupyter.widget-view+json": {
       "model_id": "88f84464e3ee4d50b5bf436e7eb9c73b",
       "version_major": 2,
       "version_minor": 0
      },
      "text/plain": [
       "sentinel_2020_BG_Q31.tif: |          | 0.00/8.97M (raw) [  0.0%] in 00:00 (eta:     ?)"
      ]
     },
     "metadata": {},
     "output_type": "display_data"
    },
    {
     "name": "stderr",
     "output_type": "stream",
     "text": [
      "There is no STAC entry for: None\n"
     ]
    },
    {
     "name": "stdout",
     "output_type": "stream",
     "text": [
      "Downloaded 1 tiles in 22.093607187271118 seconds.\n",
      "✅ Downloaded Blue/Green for 2020 Q3\n",
      "Downloading 1/1: H:/Food Agility Data/Farmanco Dataset Processing/Smith_Sentinel2_data\\sentinel_2020_NR_Q31.tif\n"
     ]
    },
    {
     "data": {
      "application/vnd.jupyter.widget-view+json": {
       "model_id": "38f4119815014d51959914b4747a7416",
       "version_major": 2,
       "version_minor": 0
      },
      "text/plain": [
       "sentinel_2020_NR_Q31.tif: |          | 0.00/8.97M (raw) [  0.0%] in 00:00 (eta:     ?)"
      ]
     },
     "metadata": {},
     "output_type": "display_data"
    },
    {
     "name": "stdout",
     "output_type": "stream",
     "text": [
      "Downloaded 1 tiles in 17.280983448028564 seconds.\n",
      "✅ Downloaded Red/NIR for 2020 Q3\n",
      "📦 Processing 2020 Q4\n",
      "Downloading 1/1: H:/Food Agility Data/Farmanco Dataset Processing/Smith_Sentinel2_data\\sentinel_2020_BG_Q41.tif\n"
     ]
    },
    {
     "data": {
      "application/vnd.jupyter.widget-view+json": {
       "model_id": "d73484b1e58e491c85daef29428f54da",
       "version_major": 2,
       "version_minor": 0
      },
      "text/plain": [
       "sentinel_2020_BG_Q41.tif: |          | 0.00/8.97M (raw) [  0.0%] in 00:00 (eta:     ?)"
      ]
     },
     "metadata": {},
     "output_type": "display_data"
    },
    {
     "name": "stdout",
     "output_type": "stream",
     "text": [
      "Downloaded 1 tiles in 21.050108909606934 seconds.\n",
      "✅ Downloaded Blue/Green for 2020 Q4\n",
      "Downloading 1/1: H:/Food Agility Data/Farmanco Dataset Processing/Smith_Sentinel2_data\\sentinel_2020_NR_Q41.tif\n"
     ]
    },
    {
     "data": {
      "application/vnd.jupyter.widget-view+json": {
       "model_id": "aaf5b7d1ba824ff9b62f7ba75a96b763",
       "version_major": 2,
       "version_minor": 0
      },
      "text/plain": [
       "sentinel_2020_NR_Q41.tif: |          | 0.00/8.97M (raw) [  0.0%] in 00:00 (eta:     ?)"
      ]
     },
     "metadata": {},
     "output_type": "display_data"
    },
    {
     "name": "stdout",
     "output_type": "stream",
     "text": [
      "Downloaded 1 tiles in 30.18963623046875 seconds.\n",
      "✅ Downloaded Red/NIR for 2020 Q4\n",
      "📦 Processing 2021 Q3\n",
      "Downloading 1/1: H:/Food Agility Data/Farmanco Dataset Processing/Smith_Sentinel2_data\\sentinel_2021_BG_Q31.tif\n"
     ]
    },
    {
     "data": {
      "application/vnd.jupyter.widget-view+json": {
       "model_id": "685b7c59855744389d671f40c7260d10",
       "version_major": 2,
       "version_minor": 0
      },
      "text/plain": [
       "sentinel_2021_BG_Q31.tif: |          | 0.00/8.97M (raw) [  0.0%] in 00:00 (eta:     ?)"
      ]
     },
     "metadata": {},
     "output_type": "display_data"
    },
    {
     "name": "stdout",
     "output_type": "stream",
     "text": [
      "Downloaded 1 tiles in 23.38350534439087 seconds.\n",
      "✅ Downloaded Blue/Green for 2021 Q3\n",
      "Downloading 1/1: H:/Food Agility Data/Farmanco Dataset Processing/Smith_Sentinel2_data\\sentinel_2021_NR_Q31.tif\n"
     ]
    },
    {
     "data": {
      "application/vnd.jupyter.widget-view+json": {
       "model_id": "80e6c3022e6c40fba1a100f5b13c1184",
       "version_major": 2,
       "version_minor": 0
      },
      "text/plain": [
       "sentinel_2021_NR_Q31.tif: |          | 0.00/8.97M (raw) [  0.0%] in 00:00 (eta:     ?)"
      ]
     },
     "metadata": {},
     "output_type": "display_data"
    },
    {
     "name": "stdout",
     "output_type": "stream",
     "text": [
      "Downloaded 1 tiles in 20.403905630111694 seconds.\n",
      "✅ Downloaded Red/NIR for 2021 Q3\n",
      "📦 Processing 2021 Q4\n",
      "Downloading 1/1: H:/Food Agility Data/Farmanco Dataset Processing/Smith_Sentinel2_data\\sentinel_2021_BG_Q41.tif\n"
     ]
    },
    {
     "data": {
      "application/vnd.jupyter.widget-view+json": {
       "model_id": "c76b32f39342481b89b17ae2e01a7f3f",
       "version_major": 2,
       "version_minor": 0
      },
      "text/plain": [
       "sentinel_2021_BG_Q41.tif: |          | 0.00/8.97M (raw) [  0.0%] in 00:00 (eta:     ?)"
      ]
     },
     "metadata": {},
     "output_type": "display_data"
    },
    {
     "name": "stdout",
     "output_type": "stream",
     "text": [
      "Downloaded 1 tiles in 25.58925461769104 seconds.\n",
      "✅ Downloaded Blue/Green for 2021 Q4\n",
      "Downloading 1/1: H:/Food Agility Data/Farmanco Dataset Processing/Smith_Sentinel2_data\\sentinel_2021_NR_Q41.tif\n"
     ]
    },
    {
     "data": {
      "application/vnd.jupyter.widget-view+json": {
       "model_id": "c4832be8599b4bf78ec9fe86058efbe2",
       "version_major": 2,
       "version_minor": 0
      },
      "text/plain": [
       "sentinel_2021_NR_Q41.tif: |          | 0.00/8.97M (raw) [  0.0%] in 00:00 (eta:     ?)"
      ]
     },
     "metadata": {},
     "output_type": "display_data"
    },
    {
     "name": "stdout",
     "output_type": "stream",
     "text": [
      "Downloaded 1 tiles in 42.74974465370178 seconds.\n",
      "✅ Downloaded Red/NIR for 2021 Q4\n",
      "📦 Processing 2022 Q3\n",
      "Downloading 1/1: H:/Food Agility Data/Farmanco Dataset Processing/Smith_Sentinel2_data\\sentinel_2022_BG_Q31.tif\n"
     ]
    },
    {
     "data": {
      "application/vnd.jupyter.widget-view+json": {
       "model_id": "614119b4eda14671b1258381af36517a",
       "version_major": 2,
       "version_minor": 0
      },
      "text/plain": [
       "sentinel_2022_BG_Q31.tif: |          | 0.00/8.97M (raw) [  0.0%] in 00:00 (eta:     ?)"
      ]
     },
     "metadata": {},
     "output_type": "display_data"
    },
    {
     "name": "stdout",
     "output_type": "stream",
     "text": [
      "Downloaded 1 tiles in 15.850340843200684 seconds.\n",
      "✅ Downloaded Blue/Green for 2022 Q3\n",
      "Downloading 1/1: H:/Food Agility Data/Farmanco Dataset Processing/Smith_Sentinel2_data\\sentinel_2022_NR_Q31.tif\n"
     ]
    },
    {
     "data": {
      "application/vnd.jupyter.widget-view+json": {
       "model_id": "c786ecba05f2430f9b7980b318aa4f36",
       "version_major": 2,
       "version_minor": 0
      },
      "text/plain": [
       "sentinel_2022_NR_Q31.tif: |          | 0.00/8.97M (raw) [  0.0%] in 00:00 (eta:     ?)"
      ]
     },
     "metadata": {},
     "output_type": "display_data"
    },
    {
     "name": "stdout",
     "output_type": "stream",
     "text": [
      "Downloaded 1 tiles in 15.81673550605774 seconds.\n",
      "✅ Downloaded Red/NIR for 2022 Q3\n",
      "📦 Processing 2022 Q4\n",
      "Downloading 1/1: H:/Food Agility Data/Farmanco Dataset Processing/Smith_Sentinel2_data\\sentinel_2022_BG_Q41.tif\n"
     ]
    },
    {
     "data": {
      "application/vnd.jupyter.widget-view+json": {
       "model_id": "8e8547c0438a42f288cf79bba08d3844",
       "version_major": 2,
       "version_minor": 0
      },
      "text/plain": [
       "sentinel_2022_BG_Q41.tif: |          | 0.00/8.97M (raw) [  0.0%] in 00:00 (eta:     ?)"
      ]
     },
     "metadata": {},
     "output_type": "display_data"
    },
    {
     "name": "stdout",
     "output_type": "stream",
     "text": [
      "Downloaded 1 tiles in 19.28331208229065 seconds.\n",
      "✅ Downloaded Blue/Green for 2022 Q4\n",
      "Downloading 1/1: H:/Food Agility Data/Farmanco Dataset Processing/Smith_Sentinel2_data\\sentinel_2022_NR_Q41.tif\n"
     ]
    },
    {
     "data": {
      "application/vnd.jupyter.widget-view+json": {
       "model_id": "ae75f175def541968131a4b326b59975",
       "version_major": 2,
       "version_minor": 0
      },
      "text/plain": [
       "sentinel_2022_NR_Q41.tif: |          | 0.00/8.97M (raw) [  0.0%] in 00:00 (eta:     ?)"
      ]
     },
     "metadata": {},
     "output_type": "display_data"
    },
    {
     "name": "stdout",
     "output_type": "stream",
     "text": [
      "Downloaded 1 tiles in 18.038532257080078 seconds.\n",
      "✅ Downloaded Red/NIR for 2022 Q4\n",
      "📦 Processing 2023 Q3\n",
      "Downloading 1/1: H:/Food Agility Data/Farmanco Dataset Processing/Smith_Sentinel2_data\\sentinel_2023_BG_Q31.tif\n"
     ]
    },
    {
     "data": {
      "application/vnd.jupyter.widget-view+json": {
       "model_id": "42f5877539c24cacbfa0e29fb3d8a122",
       "version_major": 2,
       "version_minor": 0
      },
      "text/plain": [
       "sentinel_2023_BG_Q31.tif: |          | 0.00/8.97M (raw) [  0.0%] in 00:00 (eta:     ?)"
      ]
     },
     "metadata": {},
     "output_type": "display_data"
    },
    {
     "name": "stdout",
     "output_type": "stream",
     "text": [
      "Downloaded 1 tiles in 19.945542097091675 seconds.\n",
      "✅ Downloaded Blue/Green for 2023 Q3\n",
      "Downloading 1/1: H:/Food Agility Data/Farmanco Dataset Processing/Smith_Sentinel2_data\\sentinel_2023_NR_Q31.tif\n"
     ]
    },
    {
     "data": {
      "application/vnd.jupyter.widget-view+json": {
       "model_id": "a815031a299f479989741963debd5eb7",
       "version_major": 2,
       "version_minor": 0
      },
      "text/plain": [
       "sentinel_2023_NR_Q31.tif: |          | 0.00/8.97M (raw) [  0.0%] in 00:00 (eta:     ?)"
      ]
     },
     "metadata": {},
     "output_type": "display_data"
    },
    {
     "name": "stdout",
     "output_type": "stream",
     "text": [
      "Downloaded 1 tiles in 25.316154956817627 seconds.\n",
      "✅ Downloaded Red/NIR for 2023 Q3\n",
      "📦 Processing 2023 Q4\n",
      "Downloading 1/1: H:/Food Agility Data/Farmanco Dataset Processing/Smith_Sentinel2_data\\sentinel_2023_BG_Q41.tif\n"
     ]
    },
    {
     "data": {
      "application/vnd.jupyter.widget-view+json": {
       "model_id": "0478999691b14e72b48aa1655b8fa2ad",
       "version_major": 2,
       "version_minor": 0
      },
      "text/plain": [
       "sentinel_2023_BG_Q41.tif: |          | 0.00/8.97M (raw) [  0.0%] in 00:00 (eta:     ?)"
      ]
     },
     "metadata": {},
     "output_type": "display_data"
    },
    {
     "name": "stdout",
     "output_type": "stream",
     "text": [
      "Downloaded 1 tiles in 33.24991250038147 seconds.\n",
      "✅ Downloaded Blue/Green for 2023 Q4\n",
      "Downloading 1/1: H:/Food Agility Data/Farmanco Dataset Processing/Smith_Sentinel2_data\\sentinel_2023_NR_Q41.tif\n"
     ]
    },
    {
     "data": {
      "application/vnd.jupyter.widget-view+json": {
       "model_id": "05b991a13ce7495eaf977d28d98d7a87",
       "version_major": 2,
       "version_minor": 0
      },
      "text/plain": [
       "sentinel_2023_NR_Q41.tif: |          | 0.00/8.97M (raw) [  0.0%] in 00:00 (eta:     ?)"
      ]
     },
     "metadata": {},
     "output_type": "display_data"
    },
    {
     "name": "stdout",
     "output_type": "stream",
     "text": [
      "Downloaded 1 tiles in 27.99935293197632 seconds.\n",
      "✅ Downloaded Red/NIR for 2023 Q4\n",
      "🎯 All downloads complete.\n"
     ]
    }
   ],
   "source": [
    "# Downloading Sentinel-2 data for Farmanco Point data for Smith file.\n",
    "\n",
    "# Geographic Location Description\n",
    "#This area lies in the Mid West region of Western Australia, just inland from the coast near Geraldton\n",
    "\n",
    "#The area of the bounding box [115.1328, -28.7513, 115.2639, -28.6304] is approximately 171.67 square kilometers.\n",
    "\n",
    "import ee\n",
    "import geemap\n",
    "import os\n",
    "\n",
    "# Authenticate and initialize with your project\n",
    "ee.Authenticate()\n",
    "ee.Initialize(project='crucial-weaver-427705-r4')\n",
    "\n",
    "# Output directory\n",
    "out_dir = \"H:/Food Agility Data/Farmanco Dataset Processing/Smith_Sentinel2_data\"\n",
    "os.makedirs(out_dir, exist_ok=True)\n",
    "\n",
    "# Smith A10 bounding box with buffer\n",
    "bbox = [115.1328, -28.7513, 115.2639, -28.6304]\n",
    "region = ee.Geometry.BBox(*bbox)\n",
    "region_feature = ee.FeatureCollection([ee.Feature(region)])\n",
    "\n",
    "# Sentinel-2 scale (10 meters)\n",
    "scale = 10\n",
    "\n",
    "# Years and Quarters to process\n",
    "years = [2020, 2021, 2022, 2023]\n",
    "quarters = {\n",
    "    \"Q3\": (7, 9),\n",
    "    \"Q4\": (10, 12)\n",
    "}\n",
    "\n",
    "# Loop through each year and quarter\n",
    "for year in years:\n",
    "    for quarter, (start_month, end_month) in quarters.items():\n",
    "        start_date = f\"{year}-{start_month:02d}-01\"\n",
    "        end_date = f\"{year}-{end_month:02d}-30\"\n",
    "\n",
    "        print(f\"📦 Processing {year} {quarter}\")\n",
    "\n",
    "        # Load filtered Sentinel-2 image collection\n",
    "        collection = ee.ImageCollection(\"COPERNICUS/S2\") \\\n",
    "            .filterDate(start_date, end_date) \\\n",
    "            .filterBounds(region) \\\n",
    "            .filter(ee.Filter.lt(\"CLOUDY_PIXEL_PERCENTAGE\", 10))\n",
    "\n",
    "        # Blue/Green bands (B2, B3)\n",
    "        image_bg = collection.median().select([\"B2\", \"B3\"]).clip(region)\n",
    "        bg_prefix = f\"sentinel_{year}_BG_{quarter}\"\n",
    "        geemap.download_ee_image_tiles(\n",
    "            image=image_bg,\n",
    "            features=region_feature,  # ✅ Corrected argument\n",
    "            out_dir=out_dir,\n",
    "            prefix=bg_prefix,\n",
    "            crs=\"EPSG:3857\",\n",
    "            scale=scale,\n",
    "            dtype=\"uint16\"\n",
    "        )\n",
    "        print(f\"✅ Downloaded Blue/Green for {year} {quarter}\")\n",
    "\n",
    "        # Red/NIR bands (B4, B8)\n",
    "        image_nr = collection.median().select([\"B4\", \"B8\"]).clip(region)\n",
    "        nr_prefix = f\"sentinel_{year}_NR_{quarter}\"\n",
    "        geemap.download_ee_image_tiles(\n",
    "            image=image_nr,\n",
    "            features=region_feature,  # ✅ Corrected argument\n",
    "            out_dir=out_dir,\n",
    "            prefix=nr_prefix,\n",
    "            crs=\"EPSG:3857\",\n",
    "            scale=scale,\n",
    "            dtype=\"uint16\"\n",
    "        )\n",
    "        print(f\"✅ Downloaded Red/NIR for {year} {quarter}\")\n",
    "\n",
    "print(\"🎯 All downloads complete.\")\n"
   ]
  }
 ],
 "metadata": {
  "kernelspec": {
   "display_name": "odc1",
   "language": "python",
   "name": "python3"
  },
  "language_info": {
   "codemirror_mode": {
    "name": "ipython",
    "version": 3
   },
   "file_extension": ".py",
   "mimetype": "text/x-python",
   "name": "python",
   "nbconvert_exporter": "python",
   "pygments_lexer": "ipython3",
   "version": "3.9.19"
  }
 },
 "nbformat": 4,
 "nbformat_minor": 2
}
